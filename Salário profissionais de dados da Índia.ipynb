{
 "cells": [
  {
   "cell_type": "markdown",
   "id": "e9694c0c",
   "metadata": {},
   "source": [
    "### Importando bibliotecas e dados"
   ]
  },
  {
   "cell_type": "code",
   "execution_count": 198,
   "id": "ae2ee71a",
   "metadata": {},
   "outputs": [],
   "source": [
    "import pandas as pd\n",
    "import matplotlib.pyplot as plt\n",
    "import seaborn as sns"
   ]
  },
  {
   "cell_type": "code",
   "execution_count": 199,
   "id": "127f8c96",
   "metadata": {},
   "outputs": [
    {
     "data": {
      "text/html": [
       "<div>\n",
       "<style scoped>\n",
       "    .dataframe tbody tr th:only-of-type {\n",
       "        vertical-align: middle;\n",
       "    }\n",
       "\n",
       "    .dataframe tbody tr th {\n",
       "        vertical-align: top;\n",
       "    }\n",
       "\n",
       "    .dataframe thead th {\n",
       "        text-align: right;\n",
       "    }\n",
       "</style>\n",
       "<table border=\"1\" class=\"dataframe\">\n",
       "  <thead>\n",
       "    <tr style=\"text-align: right;\">\n",
       "      <th></th>\n",
       "      <th>Company Name</th>\n",
       "      <th>Job Title</th>\n",
       "      <th>Salaries Reported</th>\n",
       "      <th>Location</th>\n",
       "      <th>Salary</th>\n",
       "    </tr>\n",
       "  </thead>\n",
       "  <tbody>\n",
       "    <tr>\n",
       "      <th>0</th>\n",
       "      <td>Mu Sigma</td>\n",
       "      <td>Data Scientist</td>\n",
       "      <td>105.0</td>\n",
       "      <td>Bangalore</td>\n",
       "      <td>₹6,48,573/yr</td>\n",
       "    </tr>\n",
       "    <tr>\n",
       "      <th>1</th>\n",
       "      <td>IBM</td>\n",
       "      <td>Data Scientist</td>\n",
       "      <td>95.0</td>\n",
       "      <td>Bangalore</td>\n",
       "      <td>₹11,91,950/yr</td>\n",
       "    </tr>\n",
       "    <tr>\n",
       "      <th>2</th>\n",
       "      <td>Tata Consultancy Services</td>\n",
       "      <td>Data Scientist</td>\n",
       "      <td>66.0</td>\n",
       "      <td>Bangalore</td>\n",
       "      <td>₹8,36,874/yr</td>\n",
       "    </tr>\n",
       "    <tr>\n",
       "      <th>3</th>\n",
       "      <td>Impact Analytics</td>\n",
       "      <td>Data Scientist</td>\n",
       "      <td>40.0</td>\n",
       "      <td>Bangalore</td>\n",
       "      <td>₹6,69,578/yr</td>\n",
       "    </tr>\n",
       "    <tr>\n",
       "      <th>4</th>\n",
       "      <td>Accenture</td>\n",
       "      <td>Data Scientist</td>\n",
       "      <td>32.0</td>\n",
       "      <td>Bangalore</td>\n",
       "      <td>₹9,44,110/yr</td>\n",
       "    </tr>\n",
       "  </tbody>\n",
       "</table>\n",
       "</div>"
      ],
      "text/plain": [
       "                Company Name       Job Title  Salaries Reported   Location  \\\n",
       "0                   Mu Sigma  Data Scientist              105.0  Bangalore   \n",
       "1                        IBM  Data Scientist               95.0  Bangalore   \n",
       "2  Tata Consultancy Services  Data Scientist               66.0  Bangalore   \n",
       "3           Impact Analytics  Data Scientist               40.0  Bangalore   \n",
       "4                  Accenture  Data Scientist               32.0  Bangalore   \n",
       "\n",
       "          Salary  \n",
       "0   ₹6,48,573/yr  \n",
       "1  ₹11,91,950/yr  \n",
       "2   ₹8,36,874/yr  \n",
       "3   ₹6,69,578/yr  \n",
       "4   ₹9,44,110/yr  "
      ]
     },
     "execution_count": 199,
     "metadata": {},
     "output_type": "execute_result"
    }
   ],
   "source": [
    "dados = pd.read_csv('Salary Dataset.csv')\n",
    "dados.head()"
   ]
  },
  {
   "cell_type": "code",
   "execution_count": 200,
   "id": "a9ac919f",
   "metadata": {},
   "outputs": [
    {
     "data": {
      "text/plain": [
       "(4344, 5)"
      ]
     },
     "execution_count": 200,
     "metadata": {},
     "output_type": "execute_result"
    }
   ],
   "source": [
    "dados.shape"
   ]
  },
  {
   "cell_type": "code",
   "execution_count": 201,
   "id": "78802712",
   "metadata": {},
   "outputs": [
    {
     "name": "stdout",
     "output_type": "stream",
     "text": [
      "<class 'pandas.core.frame.DataFrame'>\n",
      "RangeIndex: 4344 entries, 0 to 4343\n",
      "Data columns (total 5 columns):\n",
      " #   Column             Non-Null Count  Dtype  \n",
      "---  ------             --------------  -----  \n",
      " 0   Company Name       4341 non-null   object \n",
      " 1   Job Title          4344 non-null   object \n",
      " 2   Salaries Reported  4342 non-null   float64\n",
      " 3   Location           4344 non-null   object \n",
      " 4   Salary             4344 non-null   object \n",
      "dtypes: float64(1), object(4)\n",
      "memory usage: 169.8+ KB\n"
     ]
    }
   ],
   "source": [
    "dados.info()"
   ]
  },
  {
   "cell_type": "markdown",
   "id": "932d8d47",
   "metadata": {},
   "source": [
    "### Traduzindo os nomes das colunas"
   ]
  },
  {
   "cell_type": "code",
   "execution_count": 202,
   "id": "f9f69aa3",
   "metadata": {},
   "outputs": [
    {
     "data": {
      "text/html": [
       "<div>\n",
       "<style scoped>\n",
       "    .dataframe tbody tr th:only-of-type {\n",
       "        vertical-align: middle;\n",
       "    }\n",
       "\n",
       "    .dataframe tbody tr th {\n",
       "        vertical-align: top;\n",
       "    }\n",
       "\n",
       "    .dataframe thead th {\n",
       "        text-align: right;\n",
       "    }\n",
       "</style>\n",
       "<table border=\"1\" class=\"dataframe\">\n",
       "  <thead>\n",
       "    <tr style=\"text-align: right;\">\n",
       "      <th></th>\n",
       "      <th>empresa</th>\n",
       "      <th>cargo</th>\n",
       "      <th>salarios_informados</th>\n",
       "      <th>cidade</th>\n",
       "      <th>salario</th>\n",
       "    </tr>\n",
       "  </thead>\n",
       "  <tbody>\n",
       "    <tr>\n",
       "      <th>0</th>\n",
       "      <td>Mu Sigma</td>\n",
       "      <td>Data Scientist</td>\n",
       "      <td>105.0</td>\n",
       "      <td>Bangalore</td>\n",
       "      <td>₹6,48,573/yr</td>\n",
       "    </tr>\n",
       "    <tr>\n",
       "      <th>1</th>\n",
       "      <td>IBM</td>\n",
       "      <td>Data Scientist</td>\n",
       "      <td>95.0</td>\n",
       "      <td>Bangalore</td>\n",
       "      <td>₹11,91,950/yr</td>\n",
       "    </tr>\n",
       "    <tr>\n",
       "      <th>2</th>\n",
       "      <td>Tata Consultancy Services</td>\n",
       "      <td>Data Scientist</td>\n",
       "      <td>66.0</td>\n",
       "      <td>Bangalore</td>\n",
       "      <td>₹8,36,874/yr</td>\n",
       "    </tr>\n",
       "    <tr>\n",
       "      <th>3</th>\n",
       "      <td>Impact Analytics</td>\n",
       "      <td>Data Scientist</td>\n",
       "      <td>40.0</td>\n",
       "      <td>Bangalore</td>\n",
       "      <td>₹6,69,578/yr</td>\n",
       "    </tr>\n",
       "    <tr>\n",
       "      <th>4</th>\n",
       "      <td>Accenture</td>\n",
       "      <td>Data Scientist</td>\n",
       "      <td>32.0</td>\n",
       "      <td>Bangalore</td>\n",
       "      <td>₹9,44,110/yr</td>\n",
       "    </tr>\n",
       "  </tbody>\n",
       "</table>\n",
       "</div>"
      ],
      "text/plain": [
       "                     empresa           cargo  salarios_informados     cidade  \\\n",
       "0                   Mu Sigma  Data Scientist                105.0  Bangalore   \n",
       "1                        IBM  Data Scientist                 95.0  Bangalore   \n",
       "2  Tata Consultancy Services  Data Scientist                 66.0  Bangalore   \n",
       "3           Impact Analytics  Data Scientist                 40.0  Bangalore   \n",
       "4                  Accenture  Data Scientist                 32.0  Bangalore   \n",
       "\n",
       "         salario  \n",
       "0   ₹6,48,573/yr  \n",
       "1  ₹11,91,950/yr  \n",
       "2   ₹8,36,874/yr  \n",
       "3   ₹6,69,578/yr  \n",
       "4   ₹9,44,110/yr  "
      ]
     },
     "execution_count": 202,
     "metadata": {},
     "output_type": "execute_result"
    }
   ],
   "source": [
    "dados.rename(columns = {\n",
    "    'Company Name': 'empresa',\n",
    "    'Job Title': 'cargo',\n",
    "    'Salaries Reported': 'salarios_informados',\n",
    "    'Location': 'cidade',\n",
    "    'Salary': 'salario'}, inplace = True)\n",
    "\n",
    "dados.head()"
   ]
  },
  {
   "cell_type": "markdown",
   "id": "e4b64f1d",
   "metadata": {},
   "source": [
    "### Tratando os dados nulos"
   ]
  },
  {
   "cell_type": "code",
   "execution_count": 203,
   "id": "9cafd4b6",
   "metadata": {},
   "outputs": [
    {
     "data": {
      "text/plain": [
       "empresa                3\n",
       "cargo                  0\n",
       "salarios_informados    2\n",
       "cidade                 0\n",
       "salario                0\n",
       "dtype: int64"
      ]
     },
     "execution_count": 203,
     "metadata": {},
     "output_type": "execute_result"
    }
   ],
   "source": [
    "dados.isnull().sum()"
   ]
  },
  {
   "cell_type": "code",
   "execution_count": 204,
   "id": "da61348d",
   "metadata": {},
   "outputs": [
    {
     "data": {
      "text/html": [
       "<div>\n",
       "<style scoped>\n",
       "    .dataframe tbody tr th:only-of-type {\n",
       "        vertical-align: middle;\n",
       "    }\n",
       "\n",
       "    .dataframe tbody tr th {\n",
       "        vertical-align: top;\n",
       "    }\n",
       "\n",
       "    .dataframe thead th {\n",
       "        text-align: right;\n",
       "    }\n",
       "</style>\n",
       "<table border=\"1\" class=\"dataframe\">\n",
       "  <thead>\n",
       "    <tr style=\"text-align: right;\">\n",
       "      <th></th>\n",
       "      <th>empresa</th>\n",
       "      <th>cargo</th>\n",
       "      <th>salarios_informados</th>\n",
       "      <th>cidade</th>\n",
       "      <th>salario</th>\n",
       "    </tr>\n",
       "  </thead>\n",
       "  <tbody>\n",
       "    <tr>\n",
       "      <th>2279</th>\n",
       "      <td>NaN</td>\n",
       "      <td>Data Analyst</td>\n",
       "      <td>1.0</td>\n",
       "      <td>Pune</td>\n",
       "      <td>₹23,500/mo</td>\n",
       "    </tr>\n",
       "    <tr>\n",
       "      <th>3227</th>\n",
       "      <td>NaN</td>\n",
       "      <td>Data Engineer</td>\n",
       "      <td>1.0</td>\n",
       "      <td>Pune</td>\n",
       "      <td>₹26,20,604/yr</td>\n",
       "    </tr>\n",
       "    <tr>\n",
       "      <th>4026</th>\n",
       "      <td>NaN</td>\n",
       "      <td>Machine Learning Engineer/Data Scientist</td>\n",
       "      <td>1.0</td>\n",
       "      <td>Pune</td>\n",
       "      <td>₹56,465/mo</td>\n",
       "    </tr>\n",
       "  </tbody>\n",
       "</table>\n",
       "</div>"
      ],
      "text/plain": [
       "     empresa                                     cargo  salarios_informados  \\\n",
       "2279     NaN                              Data Analyst                  1.0   \n",
       "3227     NaN                             Data Engineer                  1.0   \n",
       "4026     NaN  Machine Learning Engineer/Data Scientist                  1.0   \n",
       "\n",
       "     cidade        salario  \n",
       "2279   Pune     ₹23,500/mo  \n",
       "3227   Pune  ₹26,20,604/yr  \n",
       "4026   Pune     ₹56,465/mo  "
      ]
     },
     "execution_count": 204,
     "metadata": {},
     "output_type": "execute_result"
    }
   ],
   "source": [
    "dados[dados.empresa.isnull()]"
   ]
  },
  {
   "cell_type": "code",
   "execution_count": 205,
   "id": "47a6ba04",
   "metadata": {},
   "outputs": [
    {
     "data": {
      "text/html": [
       "<div>\n",
       "<style scoped>\n",
       "    .dataframe tbody tr th:only-of-type {\n",
       "        vertical-align: middle;\n",
       "    }\n",
       "\n",
       "    .dataframe tbody tr th {\n",
       "        vertical-align: top;\n",
       "    }\n",
       "\n",
       "    .dataframe thead th {\n",
       "        text-align: right;\n",
       "    }\n",
       "</style>\n",
       "<table border=\"1\" class=\"dataframe\">\n",
       "  <thead>\n",
       "    <tr style=\"text-align: right;\">\n",
       "      <th></th>\n",
       "      <th>empresa</th>\n",
       "      <th>cargo</th>\n",
       "      <th>salarios_informados</th>\n",
       "      <th>cidade</th>\n",
       "      <th>salario</th>\n",
       "    </tr>\n",
       "  </thead>\n",
       "  <tbody>\n",
       "    <tr>\n",
       "      <th>4027</th>\n",
       "      <td>First Student Data Scientist</td>\n",
       "      <td>Data Analyst</td>\n",
       "      <td>NaN</td>\n",
       "      <td>Pune</td>\n",
       "      <td>₹4,53,300/yr</td>\n",
       "    </tr>\n",
       "    <tr>\n",
       "      <th>4237</th>\n",
       "      <td>Amazon</td>\n",
       "      <td>Machine Learning Data Associate II</td>\n",
       "      <td>NaN</td>\n",
       "      <td>New Delhi</td>\n",
       "      <td>₹3,29,439/yr</td>\n",
       "    </tr>\n",
       "  </tbody>\n",
       "</table>\n",
       "</div>"
      ],
      "text/plain": [
       "                           empresa                               cargo  \\\n",
       "4027  First Student Data Scientist                        Data Analyst   \n",
       "4237                        Amazon  Machine Learning Data Associate II   \n",
       "\n",
       "      salarios_informados     cidade       salario  \n",
       "4027                  NaN       Pune  ₹4,53,300/yr  \n",
       "4237                  NaN  New Delhi  ₹3,29,439/yr  "
      ]
     },
     "execution_count": 205,
     "metadata": {},
     "output_type": "execute_result"
    }
   ],
   "source": [
    "dados[dados.salarios_informados.isnull()]"
   ]
  },
  {
   "cell_type": "code",
   "execution_count": 206,
   "id": "f9cd755f",
   "metadata": {},
   "outputs": [
    {
     "name": "stdout",
     "output_type": "stream",
     "text": [
      "<class 'pandas.core.frame.DataFrame'>\n",
      "Int64Index: 4339 entries, 0 to 4343\n",
      "Data columns (total 5 columns):\n",
      " #   Column               Non-Null Count  Dtype  \n",
      "---  ------               --------------  -----  \n",
      " 0   empresa              4339 non-null   object \n",
      " 1   cargo                4339 non-null   object \n",
      " 2   salarios_informados  4339 non-null   float64\n",
      " 3   cidade               4339 non-null   object \n",
      " 4   salario              4339 non-null   object \n",
      "dtypes: float64(1), object(4)\n",
      "memory usage: 203.4+ KB\n"
     ]
    }
   ],
   "source": [
    "dados = dados.dropna()\n",
    "dados.info()"
   ]
  },
  {
   "cell_type": "markdown",
   "id": "ee556a98",
   "metadata": {},
   "source": [
    "### Preparando coluna salário"
   ]
  },
  {
   "cell_type": "code",
   "execution_count": 207,
   "id": "3515e9ea",
   "metadata": {},
   "outputs": [
    {
     "data": {
      "text/plain": [
       "array(['yr', 'mo', 'hr'], dtype=object)"
      ]
     },
     "execution_count": 207,
     "metadata": {},
     "output_type": "execute_result"
    }
   ],
   "source": [
    "# Checando as unidades de medidas\n",
    "\n",
    "dados.salario.apply(lambda i : i.split('/')[-1]).unique()"
   ]
  },
  {
   "cell_type": "code",
   "execution_count": 208,
   "id": "bcabc196",
   "metadata": {},
   "outputs": [
    {
     "data": {
      "text/plain": [
       "array(['₹', '$', '£', 'A'], dtype=object)"
      ]
     },
     "execution_count": 208,
     "metadata": {},
     "output_type": "execute_result"
    }
   ],
   "source": [
    "# Verificando a moeda informada\n",
    "\n",
    "dados.salario.apply(lambda i : i[0]).unique()"
   ]
  },
  {
   "cell_type": "code",
   "execution_count": 209,
   "id": "686e0c40",
   "metadata": {},
   "outputs": [
    {
     "data": {
      "text/html": [
       "<div>\n",
       "<style scoped>\n",
       "    .dataframe tbody tr th:only-of-type {\n",
       "        vertical-align: middle;\n",
       "    }\n",
       "\n",
       "    .dataframe tbody tr th {\n",
       "        vertical-align: top;\n",
       "    }\n",
       "\n",
       "    .dataframe thead th {\n",
       "        text-align: right;\n",
       "    }\n",
       "</style>\n",
       "<table border=\"1\" class=\"dataframe\">\n",
       "  <thead>\n",
       "    <tr style=\"text-align: right;\">\n",
       "      <th></th>\n",
       "      <th>empresa</th>\n",
       "      <th>cargo</th>\n",
       "      <th>salarios_informados</th>\n",
       "      <th>cidade</th>\n",
       "      <th>salario</th>\n",
       "    </tr>\n",
       "  </thead>\n",
       "  <tbody>\n",
       "    <tr>\n",
       "      <th>2278</th>\n",
       "      <td>md</td>\n",
       "      <td>Data Analyst</td>\n",
       "      <td>1.0</td>\n",
       "      <td>Pune</td>\n",
       "      <td>AFN 1,56,179/yr</td>\n",
       "    </tr>\n",
       "  </tbody>\n",
       "</table>\n",
       "</div>"
      ],
      "text/plain": [
       "     empresa         cargo  salarios_informados cidade          salario\n",
       "2278      md  Data Analyst                  1.0   Pune  AFN 1,56,179/yr"
      ]
     },
     "execution_count": 209,
     "metadata": {},
     "output_type": "execute_result"
    }
   ],
   "source": [
    "# Identificando o que signica a moeda \"A\"\n",
    "\n",
    "dados[dados.salario.apply(lambda i : i[0] == 'A')]"
   ]
  },
  {
   "cell_type": "markdown",
   "id": "2f962f6b",
   "metadata": {},
   "source": [
    "Significa que é moeda local do Afeganistão"
   ]
  },
  {
   "cell_type": "code",
   "execution_count": 210,
   "id": "434df5fc",
   "metadata": {},
   "outputs": [],
   "source": [
    "# Criando função para converter moedas pra Real (R$) - cotação em 12/03/22\n",
    "\n",
    "def converter(salario):\n",
    "    tipo = salario[0] # extraindo o tipo da moeda\n",
    "    freq = salario.split('/')[-1] # extraindo a frequencia de pagamento\n",
    "    salario = float(salario.split('/')[0][1:].replace (',', '').replace('FN', '')) # extraindo o valor numérico\n",
    "    \n",
    "    # Convertendo a modea para Real\n",
    "    if tipo == '₹':\n",
    "        salario *= 0.065\n",
    "    elif tipo == '£':\n",
    "        salario *= 5.508\n",
    "    elif tipo == 'A':\n",
    "        salario *= 0.056\n",
    "    elif tipo == '$':\n",
    "        salario *= 5.024\n",
    "        \n",
    "    # Convertendo a frequencia para mês\n",
    "    if freq == 'yr':\n",
    "        salario /= 12\n",
    "    elif freq == 'hr':\n",
    "        salario *= 220\n",
    "        \n",
    "    # Retornando o salário final\n",
    "    return salario"
   ]
  },
  {
   "cell_type": "code",
   "execution_count": 211,
   "id": "ef91d6e6",
   "metadata": {},
   "outputs": [
    {
     "data": {
      "text/html": [
       "<div>\n",
       "<style scoped>\n",
       "    .dataframe tbody tr th:only-of-type {\n",
       "        vertical-align: middle;\n",
       "    }\n",
       "\n",
       "    .dataframe tbody tr th {\n",
       "        vertical-align: top;\n",
       "    }\n",
       "\n",
       "    .dataframe thead th {\n",
       "        text-align: right;\n",
       "    }\n",
       "</style>\n",
       "<table border=\"1\" class=\"dataframe\">\n",
       "  <thead>\n",
       "    <tr style=\"text-align: right;\">\n",
       "      <th></th>\n",
       "      <th>empresa</th>\n",
       "      <th>cargo</th>\n",
       "      <th>salarios_informados</th>\n",
       "      <th>cidade</th>\n",
       "      <th>salario</th>\n",
       "      <th>salario_mes_real</th>\n",
       "    </tr>\n",
       "  </thead>\n",
       "  <tbody>\n",
       "    <tr>\n",
       "      <th>0</th>\n",
       "      <td>Mu Sigma</td>\n",
       "      <td>Data Scientist</td>\n",
       "      <td>105.0</td>\n",
       "      <td>Bangalore</td>\n",
       "      <td>₹6,48,573/yr</td>\n",
       "      <td>3513.10</td>\n",
       "    </tr>\n",
       "    <tr>\n",
       "      <th>1</th>\n",
       "      <td>IBM</td>\n",
       "      <td>Data Scientist</td>\n",
       "      <td>95.0</td>\n",
       "      <td>Bangalore</td>\n",
       "      <td>₹11,91,950/yr</td>\n",
       "      <td>6456.40</td>\n",
       "    </tr>\n",
       "    <tr>\n",
       "      <th>2</th>\n",
       "      <td>Tata Consultancy Services</td>\n",
       "      <td>Data Scientist</td>\n",
       "      <td>66.0</td>\n",
       "      <td>Bangalore</td>\n",
       "      <td>₹8,36,874/yr</td>\n",
       "      <td>4533.07</td>\n",
       "    </tr>\n",
       "    <tr>\n",
       "      <th>3</th>\n",
       "      <td>Impact Analytics</td>\n",
       "      <td>Data Scientist</td>\n",
       "      <td>40.0</td>\n",
       "      <td>Bangalore</td>\n",
       "      <td>₹6,69,578/yr</td>\n",
       "      <td>3626.88</td>\n",
       "    </tr>\n",
       "    <tr>\n",
       "      <th>4</th>\n",
       "      <td>Accenture</td>\n",
       "      <td>Data Scientist</td>\n",
       "      <td>32.0</td>\n",
       "      <td>Bangalore</td>\n",
       "      <td>₹9,44,110/yr</td>\n",
       "      <td>5113.93</td>\n",
       "    </tr>\n",
       "  </tbody>\n",
       "</table>\n",
       "</div>"
      ],
      "text/plain": [
       "                     empresa           cargo  salarios_informados     cidade  \\\n",
       "0                   Mu Sigma  Data Scientist                105.0  Bangalore   \n",
       "1                        IBM  Data Scientist                 95.0  Bangalore   \n",
       "2  Tata Consultancy Services  Data Scientist                 66.0  Bangalore   \n",
       "3           Impact Analytics  Data Scientist                 40.0  Bangalore   \n",
       "4                  Accenture  Data Scientist                 32.0  Bangalore   \n",
       "\n",
       "         salario  salario_mes_real  \n",
       "0   ₹6,48,573/yr           3513.10  \n",
       "1  ₹11,91,950/yr           6456.40  \n",
       "2   ₹8,36,874/yr           4533.07  \n",
       "3   ₹6,69,578/yr           3626.88  \n",
       "4   ₹9,44,110/yr           5113.93  "
      ]
     },
     "execution_count": 211,
     "metadata": {},
     "output_type": "execute_result"
    }
   ],
   "source": [
    "# Aplicando a função no dataset\n",
    "\n",
    "dados['salario_mes_real'] = dados.salario.apply(converter).round(2)\n",
    "dados.head()"
   ]
  },
  {
   "cell_type": "code",
   "execution_count": 212,
   "id": "cafc9140",
   "metadata": {},
   "outputs": [
    {
     "data": {
      "text/html": [
       "<div>\n",
       "<style scoped>\n",
       "    .dataframe tbody tr th:only-of-type {\n",
       "        vertical-align: middle;\n",
       "    }\n",
       "\n",
       "    .dataframe tbody tr th {\n",
       "        vertical-align: top;\n",
       "    }\n",
       "\n",
       "    .dataframe thead th {\n",
       "        text-align: right;\n",
       "    }\n",
       "</style>\n",
       "<table border=\"1\" class=\"dataframe\">\n",
       "  <thead>\n",
       "    <tr style=\"text-align: right;\">\n",
       "      <th></th>\n",
       "      <th>empresa</th>\n",
       "      <th>cargo</th>\n",
       "      <th>salarios_informados</th>\n",
       "      <th>cidade</th>\n",
       "      <th>salario_mes_real</th>\n",
       "    </tr>\n",
       "  </thead>\n",
       "  <tbody>\n",
       "    <tr>\n",
       "      <th>0</th>\n",
       "      <td>Mu Sigma</td>\n",
       "      <td>Data Scientist</td>\n",
       "      <td>105.0</td>\n",
       "      <td>Bangalore</td>\n",
       "      <td>3513.10</td>\n",
       "    </tr>\n",
       "    <tr>\n",
       "      <th>1</th>\n",
       "      <td>IBM</td>\n",
       "      <td>Data Scientist</td>\n",
       "      <td>95.0</td>\n",
       "      <td>Bangalore</td>\n",
       "      <td>6456.40</td>\n",
       "    </tr>\n",
       "    <tr>\n",
       "      <th>2</th>\n",
       "      <td>Tata Consultancy Services</td>\n",
       "      <td>Data Scientist</td>\n",
       "      <td>66.0</td>\n",
       "      <td>Bangalore</td>\n",
       "      <td>4533.07</td>\n",
       "    </tr>\n",
       "    <tr>\n",
       "      <th>3</th>\n",
       "      <td>Impact Analytics</td>\n",
       "      <td>Data Scientist</td>\n",
       "      <td>40.0</td>\n",
       "      <td>Bangalore</td>\n",
       "      <td>3626.88</td>\n",
       "    </tr>\n",
       "    <tr>\n",
       "      <th>4</th>\n",
       "      <td>Accenture</td>\n",
       "      <td>Data Scientist</td>\n",
       "      <td>32.0</td>\n",
       "      <td>Bangalore</td>\n",
       "      <td>5113.93</td>\n",
       "    </tr>\n",
       "  </tbody>\n",
       "</table>\n",
       "</div>"
      ],
      "text/plain": [
       "                     empresa           cargo  salarios_informados     cidade  \\\n",
       "0                   Mu Sigma  Data Scientist                105.0  Bangalore   \n",
       "1                        IBM  Data Scientist                 95.0  Bangalore   \n",
       "2  Tata Consultancy Services  Data Scientist                 66.0  Bangalore   \n",
       "3           Impact Analytics  Data Scientist                 40.0  Bangalore   \n",
       "4                  Accenture  Data Scientist                 32.0  Bangalore   \n",
       "\n",
       "   salario_mes_real  \n",
       "0           3513.10  \n",
       "1           6456.40  \n",
       "2           4533.07  \n",
       "3           3626.88  \n",
       "4           5113.93  "
      ]
     },
     "execution_count": 212,
     "metadata": {},
     "output_type": "execute_result"
    }
   ],
   "source": [
    "# Excluindo a coluna salario antiga\n",
    "\n",
    "dados.drop('salario', axis = 1, inplace = True)\n",
    "dados.head()"
   ]
  },
  {
   "cell_type": "markdown",
   "id": "06eaa024",
   "metadata": {},
   "source": [
    "### Analisando os dados da amostra"
   ]
  },
  {
   "cell_type": "code",
   "execution_count": 213,
   "id": "8d742d69",
   "metadata": {},
   "outputs": [
    {
     "data": {
      "text/html": [
       "<div>\n",
       "<style scoped>\n",
       "    .dataframe tbody tr th:only-of-type {\n",
       "        vertical-align: middle;\n",
       "    }\n",
       "\n",
       "    .dataframe tbody tr th {\n",
       "        vertical-align: top;\n",
       "    }\n",
       "\n",
       "    .dataframe thead th {\n",
       "        text-align: right;\n",
       "    }\n",
       "</style>\n",
       "<table border=\"1\" class=\"dataframe\">\n",
       "  <thead>\n",
       "    <tr style=\"text-align: right;\">\n",
       "      <th></th>\n",
       "      <th>salarios_informados</th>\n",
       "      <th>salario_mes_real</th>\n",
       "    </tr>\n",
       "  </thead>\n",
       "  <tbody>\n",
       "    <tr>\n",
       "      <th>count</th>\n",
       "      <td>4339.00</td>\n",
       "      <td>4339.00</td>\n",
       "    </tr>\n",
       "    <tr>\n",
       "      <th>mean</th>\n",
       "      <td>2.78</td>\n",
       "      <td>6033.77</td>\n",
       "    </tr>\n",
       "    <tr>\n",
       "      <th>std</th>\n",
       "      <td>5.15</td>\n",
       "      <td>20699.12</td>\n",
       "    </tr>\n",
       "    <tr>\n",
       "      <th>min</th>\n",
       "      <td>1.00</td>\n",
       "      <td>58.58</td>\n",
       "    </tr>\n",
       "    <tr>\n",
       "      <th>25%</th>\n",
       "      <td>1.00</td>\n",
       "      <td>2275.00</td>\n",
       "    </tr>\n",
       "    <tr>\n",
       "      <th>50%</th>\n",
       "      <td>1.00</td>\n",
       "      <td>3840.39</td>\n",
       "    </tr>\n",
       "    <tr>\n",
       "      <th>75%</th>\n",
       "      <td>3.00</td>\n",
       "      <td>6500.00</td>\n",
       "    </tr>\n",
       "    <tr>\n",
       "      <th>max</th>\n",
       "      <td>105.00</td>\n",
       "      <td>768734.12</td>\n",
       "    </tr>\n",
       "  </tbody>\n",
       "</table>\n",
       "</div>"
      ],
      "text/plain": [
       "       salarios_informados  salario_mes_real\n",
       "count              4339.00           4339.00\n",
       "mean                  2.78           6033.77\n",
       "std                   5.15          20699.12\n",
       "min                   1.00             58.58\n",
       "25%                   1.00           2275.00\n",
       "50%                   1.00           3840.39\n",
       "75%                   3.00           6500.00\n",
       "max                 105.00         768734.12"
      ]
     },
     "execution_count": 213,
     "metadata": {},
     "output_type": "execute_result"
    }
   ],
   "source": [
    "dados.describe().round(2)"
   ]
  },
  {
   "cell_type": "code",
   "execution_count": 226,
   "id": "3ddc8f47",
   "metadata": {},
   "outputs": [
    {
     "data": {
      "text/plain": [
       "<AxesSubplot:title={'center':'Distribuição dos salários (escala logarítmica)'}, xlabel='Salário por mês', ylabel='Contagem'>"
      ]
     },
     "execution_count": 226,
     "metadata": {},
     "output_type": "execute_result"
    },
    {
     "data": {
      "image/png": "[encoded data removed]",
      "text/plain": [
       "<Figure size 1080x576 with 1 Axes>"
      ]
     },
     "metadata": {
      "needs_background": "light"
     },
     "output_type": "display_data"
    }
   ],
   "source": [
    "# Gerando o gráfico em escala logarítmica para verificar se a amostra se distribui normalmente\n",
    "fig, ax = plt.subplots(figsize=(15,8))\n",
    "\n",
    "sns.histplot(dados.salario_mes_real, kde = True, log_scale = True)\n",
    "ax.set_title('Distribuição dos salários (escala logarítmica)', fontsize = 16, pad = 15)\n",
    "ax.set_xlabel('Salário por mês', fontsize = 13)\n",
    "ax.set_ylabel('Contagem', fontsize = 13)\n",
    "ax.xaxis.set_major_formatter(lambda x, pos: f'R${format(x, \",\")}')\n",
    "ax"
   ]
  },
  {
   "cell_type": "markdown",
   "id": "b3380cda",
   "metadata": {},
   "source": [
    "#### Top 20 empresas que pagam mais"
   ]
  },
  {
   "cell_type": "code",
   "execution_count": 223,
   "id": "9cb90172",
   "metadata": {},
   "outputs": [
    {
     "data": {
      "text/html": [
       "<div>\n",
       "<style scoped>\n",
       "    .dataframe tbody tr th:only-of-type {\n",
       "        vertical-align: middle;\n",
       "    }\n",
       "\n",
       "    .dataframe tbody tr th {\n",
       "        vertical-align: top;\n",
       "    }\n",
       "\n",
       "    .dataframe thead th {\n",
       "        text-align: right;\n",
       "    }\n",
       "</style>\n",
       "<table border=\"1\" class=\"dataframe\">\n",
       "  <thead>\n",
       "    <tr style=\"text-align: right;\">\n",
       "      <th></th>\n",
       "      <th>empresa</th>\n",
       "      <th>cargo</th>\n",
       "      <th>salarios_informados</th>\n",
       "      <th>cidade</th>\n",
       "      <th>salario_mes_real</th>\n",
       "    </tr>\n",
       "  </thead>\n",
       "  <tbody>\n",
       "    <tr>\n",
       "      <th>90</th>\n",
       "      <td>CRED</td>\n",
       "      <td>Data Scientist</td>\n",
       "      <td>5.0</td>\n",
       "      <td>Bangalore</td>\n",
       "      <td>16329.55</td>\n",
       "    </tr>\n",
       "    <tr>\n",
       "      <th>60</th>\n",
       "      <td>Swiggy</td>\n",
       "      <td>Data Scientist</td>\n",
       "      <td>6.0</td>\n",
       "      <td>Bangalore</td>\n",
       "      <td>15196.33</td>\n",
       "    </tr>\n",
       "    <tr>\n",
       "      <th>1254</th>\n",
       "      <td>ZS Associates</td>\n",
       "      <td>Data Science Consultant</td>\n",
       "      <td>5.0</td>\n",
       "      <td>Pune</td>\n",
       "      <td>14470.43</td>\n",
       "    </tr>\n",
       "    <tr>\n",
       "      <th>57</th>\n",
       "      <td>Adobe</td>\n",
       "      <td>Data Scientist</td>\n",
       "      <td>6.0</td>\n",
       "      <td>Bangalore</td>\n",
       "      <td>14213.67</td>\n",
       "    </tr>\n",
       "    <tr>\n",
       "      <th>46</th>\n",
       "      <td>Walmart</td>\n",
       "      <td>Data Scientist</td>\n",
       "      <td>8.0</td>\n",
       "      <td>Bangalore</td>\n",
       "      <td>13906.65</td>\n",
       "    </tr>\n",
       "  </tbody>\n",
       "</table>\n",
       "</div>"
      ],
      "text/plain": [
       "            empresa                    cargo  salarios_informados     cidade  \\\n",
       "90             CRED           Data Scientist                  5.0  Bangalore   \n",
       "60           Swiggy           Data Scientist                  6.0  Bangalore   \n",
       "1254  ZS Associates  Data Science Consultant                  5.0       Pune   \n",
       "57            Adobe           Data Scientist                  6.0  Bangalore   \n",
       "46          Walmart           Data Scientist                  8.0  Bangalore   \n",
       "\n",
       "      salario_mes_real  \n",
       "90            16329.55  \n",
       "60            15196.33  \n",
       "1254          14470.43  \n",
       "57            14213.67  \n",
       "46            13906.65  "
      ]
     },
     "execution_count": 223,
     "metadata": {},
     "output_type": "execute_result"
    }
   ],
   "source": [
    "# Considerei na análise apenas os cargos que tem ao menos 5 salários informados\n",
    "\n",
    "elegiveis = dados.query('salarios_informados > 4')\n",
    "top_20_empresas = elegiveis.sort_values('salario_mes_real', ascending = False)[:20]\n",
    "top_20_empresas.head()"
   ]
  },
  {
   "cell_type": "code",
   "execution_count": 216,
   "id": "491adf44",
   "metadata": {},
   "outputs": [
    {
     "data": {
      "text/plain": [
       "<AxesSubplot:title={'center':'Top 20 empresas que pagam mais'}, xlabel='Salário por mês'>"
      ]
     },
     "execution_count": 216,
     "metadata": {},
     "output_type": "execute_result"
    },
    {
     "data": {
      "image/png": "[encoded data removed]",
      "text/plain": [
       "<Figure size 1080x576 with 1 Axes>"
      ]
     },
     "metadata": {
      "needs_background": "light"
     },
     "output_type": "display_data"
    }
   ],
   "source": [
    "fig, ax = plt.subplots(figsize=(15,8))\n",
    "\n",
    "sns.barplot(x = 'salario_mes_real', y = 'empresa', data = top_20_empresas, palette = 'mako')\n",
    "ax.set_title('Top 20 empresas que pagam mais', fontsize = 16, pad = 15)\n",
    "ax.set_xlabel('Salário por mês', fontsize = 13)\n",
    "ax.set_ylabel('')\n",
    "ax.xaxis.set_major_formatter(lambda x, pos: f'R${format(x, \",\")}')\n",
    "ax"
   ]
  },
  {
   "cell_type": "markdown",
   "id": "97ce5e35",
   "metadata": {},
   "source": [
    "#### Top 10 profissões que recebem mais"
   ]
  },
  {
   "cell_type": "code",
   "execution_count": 217,
   "id": "659c7c40",
   "metadata": {},
   "outputs": [],
   "source": [
    "agrupamento = elegiveis.groupby('cargo')\n",
    "top_10_profissoes = agrupamento.salario_mes_real.mean().sort_values(ascending = False)[:10]\n",
    "data1 = pd.DataFrame(top_10_profissoes)\n",
    "data1['cargo'] = data1.index"
   ]
  },
  {
   "cell_type": "code",
   "execution_count": 218,
   "id": "0dabf071",
   "metadata": {},
   "outputs": [
    {
     "data": {
      "text/plain": [
       "<AxesSubplot:title={'center':'Top 10 profissões que recebem mais'}, xlabel='Salário por mês'>"
      ]
     },
     "execution_count": 218,
     "metadata": {},
     "output_type": "execute_result"
    },
    {
     "data": {
      "image/png": "[encoded data removed]",
      "text/plain": [
       "<Figure size 1080x576 with 1 Axes>"
      ]
     },
     "metadata": {
      "needs_background": "light"
     },
     "output_type": "display_data"
    }
   ],
   "source": [
    "fig, ax = plt.subplots(figsize=(15,8))\n",
    "\n",
    "sns.barplot(x = 'salario_mes_real', y = 'cargo', data = data1, palette = 'rocket')\n",
    "ax.set_title('Top 10 profissões que recebem mais', fontsize = 16, pad = 15)\n",
    "ax.set_xlabel('Salário por mês', fontsize = 13)\n",
    "ax.set_ylabel('')\n",
    "ax.xaxis.set_major_formatter(lambda x, pos: f'R${format(x, \",\")}')\n",
    "ax"
   ]
  },
  {
   "cell_type": "markdown",
   "id": "8efaf454",
   "metadata": {},
   "source": [
    "#### Top 5 profissões mais frequentes"
   ]
  },
  {
   "cell_type": "code",
   "execution_count": 219,
   "id": "841af7f6",
   "metadata": {},
   "outputs": [
    {
     "data": {
      "text/plain": [
       "Data Scientist               1844\n",
       "Data Analyst                  988\n",
       "Data Engineer                 804\n",
       "Machine Learning Engineer     568\n",
       "Data Science                   43\n",
       "Name: cargo, dtype: int64"
      ]
     },
     "execution_count": 219,
     "metadata": {},
     "output_type": "execute_result"
    }
   ],
   "source": [
    "top_5_profissoes_frequentes = dados.cargo.value_counts()[:5]\n",
    "top_5_profissoes_frequentes"
   ]
  },
  {
   "cell_type": "code",
   "execution_count": 220,
   "id": "66fc27ef",
   "metadata": {},
   "outputs": [
    {
     "data": {
      "text/plain": [
       "<AxesSubplot:>"
      ]
     },
     "execution_count": 220,
     "metadata": {},
     "output_type": "execute_result"
    },
    {
     "data": {
      "image/png": "[encoded data removed]",
      "text/plain": [
       "<Figure size 504x432 with 1 Axes>"
      ]
     },
     "metadata": {},
     "output_type": "display_data"
    }
   ],
   "source": [
    "fig, ax = plt.subplots(figsize=(7,6))\n",
    "\n",
    "separar = [0.1,0,0,0,0]\n",
    "\n",
    "ax.pie(top_5_profissoes_frequentes, labels = top_5_profissoes_frequentes.index, \n",
    "       autopct = '%.1f%%', explode = separar, shadow = True)\n",
    "ax"
   ]
  },
  {
   "cell_type": "markdown",
   "id": "3350966e",
   "metadata": {},
   "source": [
    "#### Top 5 cidades com maior média salarial"
   ]
  },
  {
   "cell_type": "code",
   "execution_count": 221,
   "id": "4f280494",
   "metadata": {},
   "outputs": [],
   "source": [
    "agrupamento1 = elegiveis.groupby('cidade')\n",
    "top_5_cidades = agrupamento1.salario_mes_real.mean().sort_values(ascending = False)[:10]\n",
    "data2 = pd.DataFrame(top_5_cidades)\n",
    "data2['cidade'] = data2.index"
   ]
  },
  {
   "cell_type": "code",
   "execution_count": 222,
   "id": "830c6f75",
   "metadata": {},
   "outputs": [
    {
     "data": {
      "image/png": "[encoded data removed]",
      "text/plain": [
       "<Figure size 864x360 with 1 Axes>"
      ]
     },
     "metadata": {
      "needs_background": "light"
     },
     "output_type": "display_data"
    }
   ],
   "source": [
    "fig, ax = plt.subplots(figsize=(12,5))\n",
    "\n",
    "sns.barplot(x='cidade', y = 'salario_mes_real', data = data2, palette = 'magma')\n",
    "ax.set_title('Top 5 cidades por média salarial', fontsize=16, pad = 15)\n",
    "ax.set_xlabel('')\n",
    "ax.set_ylabel('')\n",
    "ax.yaxis.set_major_formatter(lambda x, pos: f'R${format(x, \",\")}')"
   ]
  },
  {
   "cell_type": "code",
   "execution_count": null,
   "id": "1dcada6e",
   "metadata": {},
   "outputs": [],
   "source": []
  }
 ],
 "metadata": {
  "kernelspec": {
   "display_name": "Python 3 (ipykernel)",
   "language": "python",
   "name": "python3"
  },
  "language_info": {
   "codemirror_mode": {
    "name": "ipython",
    "version": 3
   },
   "file_extension": ".py",
   "mimetype": "text/x-python",
   "name": "python",
   "nbconvert_exporter": "python",
   "pygments_lexer": "ipython3",
   "version": "3.9.7"
  }
 },
 "nbformat": 4,
 "nbformat_minor": 5
}
